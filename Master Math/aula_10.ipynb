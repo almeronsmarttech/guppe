{
 "cells": [
  {
   "cell_type": "code",
   "execution_count": 33,
   "id": "initial_id",
   "metadata": {
    "ExecuteTime": {
     "end_time": "2025-04-06T16:22:03.373868Z",
     "start_time": "2025-04-06T16:22:03.361870Z"
    }
   },
   "outputs": [
    {
     "data": {
      "text/plain": [
       "'x + y = 50'"
      ]
     },
     "metadata": {},
     "output_type": "display_data"
    },
    {
     "data": {
      "text/latex": [
       "$\\displaystyle x + y = 50$"
      ],
      "text/plain": [
       "<IPython.core.display.Math object>"
      ]
     },
     "metadata": {},
     "output_type": "display_data"
    }
   ],
   "source": [
    "from IPython.display import display, Math\n",
    "\n",
    "display('x + y = 50')\n",
    "\n",
    "display(Math('x + y = 50'))"
   ]
  },
  {
   "cell_type": "code",
   "execution_count": 34,
   "id": "2cd9ba0310e2e4da",
   "metadata": {
    "ExecuteTime": {
     "end_time": "2025-04-06T16:22:03.330673300Z",
     "start_time": "2025-04-06T14:21:50.196468Z"
    }
   },
   "outputs": [
    {
     "data": {
      "text/latex": [
       "$\\displaystyle 10 + 20 = 30$"
      ],
      "text/plain": [
       "<IPython.core.display.Math object>"
      ]
     },
     "metadata": {},
     "output_type": "display_data"
    }
   ],
   "source": [
    "x = 10\n",
    "y = 20\n",
    "display(Math('%g + %g = %g' %(x,y,x+y)))"
   ]
  },
  {
   "cell_type": "code",
   "execution_count": 35,
   "id": "87369f70f4d94b4",
   "metadata": {
    "ExecuteTime": {
     "end_time": "2025-04-06T16:22:03.347299300Z",
     "start_time": "2025-04-06T14:23:20.975774Z"
    }
   },
   "outputs": [
    {
     "data": {
      "text/latex": [
       "$\\displaystyle \\frac{x}{y}$"
      ],
      "text/plain": [
       "<IPython.core.display.Math object>"
      ]
     },
     "metadata": {},
     "output_type": "display_data"
    }
   ],
   "source": [
    "display(Math('\\\\frac{x}{y}'))"
   ]
  },
  {
   "cell_type": "code",
   "execution_count": 36,
   "id": "8c6b42c0622401a",
   "metadata": {
    "ExecuteTime": {
     "end_time": "2025-04-06T16:22:03.349294300Z",
     "start_time": "2025-04-06T14:26:28.013287Z"
    }
   },
   "outputs": [
    {
     "data": {
      "text/latex": [
       "$\\displaystyle 3.4 \\times 17 = 57.8$"
      ],
      "text/plain": [
       "<IPython.core.display.Math object>"
      ]
     },
     "metadata": {},
     "output_type": "display_data"
    }
   ],
   "source": [
    "a = 3.4\n",
    "b = 17\n",
    "display(Math('%g \\\\times %g = %g' %(a,b,a*b)))"
   ]
  },
  {
   "cell_type": "code",
   "execution_count": 37,
   "id": "23388e36e371b044",
   "metadata": {
    "ExecuteTime": {
     "end_time": "2025-04-06T16:22:03.350366800Z",
     "start_time": "2025-04-06T14:37:50.655654Z"
    }
   },
   "outputs": [
    {
     "data": {
      "text/latex": [
       "$\\displaystyle 3x(4+y) = 42$"
      ],
      "text/plain": [
       "<IPython.core.display.Math object>"
      ]
     },
     "metadata": {},
     "output_type": "display_data"
    },
    {
     "data": {
      "text/latex": [
       "$\\displaystyle 3 \\times 7(4+-2) = 42$"
      ],
      "text/plain": [
       "<IPython.core.display.Math object>"
      ]
     },
     "metadata": {},
     "output_type": "display_data"
    }
   ],
   "source": [
    "x = 7\n",
    "y = -2\n",
    "z = 5\n",
    "\n",
    "ans1 = 3*x*(4+y)\n",
    "display(Math('3x(4+y) = %g' %(ans1)))\n",
    "display(Math('3 \\\\times %g(4+%g) = %g' %(x, y, ans1)))\n"
   ]
  },
  {
   "cell_type": "code",
   "execution_count": 38,
   "id": "ba54bb59e35c0ddf",
   "metadata": {
    "ExecuteTime": {
     "end_time": "2025-04-06T16:46:24.305695Z",
     "start_time": "2025-04-06T16:46:24.291476Z"
    }
   },
   "outputs": [
    {
     "data": {
      "text/latex": [
       "$\\displaystyle -y-\\frac {(x+3)}{z} = 0$"
      ],
      "text/plain": [
       "<IPython.core.display.Math object>"
      ]
     },
     "metadata": {},
     "output_type": "display_data"
    },
    {
     "data": {
      "text/latex": [
       "$\\displaystyle - -2 - \\frac {(7+3)} {5} = 0$"
      ],
      "text/plain": [
       "<IPython.core.display.Math object>"
      ]
     },
     "metadata": {},
     "output_type": "display_data"
    }
   ],
   "source": [
    "ans2 = -y-(x+3)/z\n",
    "display(Math('-y-\\\\frac {(x+3)}{z} = %g' %(ans2)))\n",
    "\n",
    "display(Math('- %g - \\\\frac {(%g+3)} {%g} = %g' %(y,x,z,ans2)))"
   ]
  },
  {
   "cell_type": "code",
   "execution_count": 39,
   "id": "b5d3fbe3d39c342e",
   "metadata": {
    "ExecuteTime": {
     "end_time": "2025-04-06T16:46:30.137184Z",
     "start_time": "2025-04-06T16:46:30.112410Z"
    }
   },
   "outputs": [
    {
     "data": {
      "text/plain": [
       "9"
      ]
     },
     "execution_count": 39,
     "metadata": {},
     "output_type": "execute_result"
    }
   ],
   "source": [
    "3**2"
   ]
  },
  {
   "cell_type": "code",
   "execution_count": 40,
   "id": "a95b6cb74800e081",
   "metadata": {
    "ExecuteTime": {
     "end_time": "2025-04-06T16:47:00.978261Z",
     "start_time": "2025-04-06T16:47:00.967783Z"
    }
   },
   "outputs": [
    {
     "data": {
      "text/plain": [
       "9"
      ]
     },
     "execution_count": 40,
     "metadata": {},
     "output_type": "execute_result"
    }
   ],
   "source": [
    "x = 2\n",
    "3**x"
   ]
  },
  {
   "cell_type": "code",
   "execution_count": 41,
   "id": "6cd29ba55cb922d7",
   "metadata": {
    "ExecuteTime": {
     "end_time": "2025-04-06T16:48:01.139620Z",
     "start_time": "2025-04-06T16:48:01.134140Z"
    }
   },
   "outputs": [
    {
     "name": "stdout",
     "output_type": "stream",
     "text": [
      "27\n",
      "27\n"
     ]
    }
   ],
   "source": [
    "print(3**3)\n",
    "print(3*3*3)"
   ]
  },
  {
   "cell_type": "code",
   "execution_count": 42,
   "id": "f1b0cbf549fbf4fc",
   "metadata": {
    "ExecuteTime": {
     "end_time": "2025-04-06T16:49:53.942112Z",
     "start_time": "2025-04-06T16:49:53.936230Z"
    }
   },
   "outputs": [
    {
     "name": "stdout",
     "output_type": "stream",
     "text": [
      "729\n",
      "729\n"
     ]
    }
   ],
   "source": [
    "print(3**2 * 3**4)\n",
    "print(3**(2+4))"
   ]
  },
  {
   "cell_type": "code",
   "execution_count": 43,
   "id": "85c4deaa5175ac08",
   "metadata": {
    "ExecuteTime": {
     "end_time": "2025-04-06T16:51:25.322760Z",
     "start_time": "2025-04-06T16:51:25.315085Z"
    }
   },
   "outputs": [
    {
     "name": "stdout",
     "output_type": "stream",
     "text": [
      "2.5\n",
      "2.23606797749979\n"
     ]
    }
   ],
   "source": [
    "print(5**1/2)\n",
    "print(5**(1/2))"
   ]
  },
  {
   "cell_type": "code",
   "execution_count": 44,
   "id": "dd7e0f4ed7f40c2e",
   "metadata": {
    "ExecuteTime": {
     "end_time": "2025-04-06T16:56:07.569169Z",
     "start_time": "2025-04-06T16:56:07.554533Z"
    }
   },
   "outputs": [
    {
     "data": {
      "text/latex": [
       "$\\displaystyle 1+2=3$"
      ],
      "text/plain": [
       "<IPython.core.display.Math object>"
      ]
     },
     "metadata": {},
     "output_type": "display_data"
    },
    {
     "data": {
      "text/latex": [
       "$\\displaystyle 3^2=9$"
      ],
      "text/plain": [
       "<IPython.core.display.Math object>"
      ]
     },
     "metadata": {},
     "output_type": "display_data"
    },
    {
     "data": {
      "text/latex": [
       "$\\displaystyle 3^2\\times 3^4 = 3^{2+4}$"
      ],
      "text/plain": [
       "<IPython.core.display.Math object>"
      ]
     },
     "metadata": {},
     "output_type": "display_data"
    }
   ],
   "source": [
    "display(Math('1+2=3'))\n",
    "display(Math('3^2=%g' %(3**2)))\n",
    "display(Math('3^2\\\\times 3^4 = 3^{2+4}'))"
   ]
  },
  {
   "cell_type": "code",
   "execution_count": 45,
   "id": "fee63e21ec0d1600",
   "metadata": {
    "ExecuteTime": {
     "end_time": "2025-04-06T16:59:45.244627Z",
     "start_time": "2025-04-06T16:59:45.236293Z"
    }
   },
   "outputs": [
    {
     "data": {
      "text/latex": [
       "$\\displaystyle x^{3/4} \\times 4^y = 3933.09$"
      ],
      "text/plain": [
       "<IPython.core.display.Math object>"
      ]
     },
     "metadata": {},
     "output_type": "display_data"
    }
   ],
   "source": [
    "x = 5\n",
    "y = 5.1\n",
    "ans3 = x**(3/4) * 4**y\n",
    "display(Math('x^{3/4} \\\\times 4^y = %g' %(ans3)))"
   ]
  },
  {
   "cell_type": "code",
   "execution_count": 46,
   "id": "5df96c41132cb8af",
   "metadata": {
    "ExecuteTime": {
     "end_time": "2025-04-06T17:01:26.119073Z",
     "start_time": "2025-04-06T17:01:26.110623Z"
    }
   },
   "outputs": [
    {
     "data": {
      "text/latex": [
       "$\\displaystyle \\frac{3^3}{x^y} = 0.00735558$"
      ],
      "text/plain": [
       "<IPython.core.display.Math object>"
      ]
     },
     "metadata": {},
     "output_type": "display_data"
    }
   ],
   "source": [
    "ans4 = (3**3)/(x**y)\n",
    "display(Math('\\\\frac{3^3}{x^y} = %g' %(ans4)))"
   ]
  },
  {
   "cell_type": "code",
   "execution_count": 47,
   "id": "80a2bcdeb4104084",
   "metadata": {
    "ExecuteTime": {
     "end_time": "2025-04-06T17:02:26.406136Z",
     "start_time": "2025-04-06T17:02:26.399316Z"
    }
   },
   "outputs": [
    {
     "data": {
      "text/latex": [
       "$\\displaystyle 10^{x-4} = 10$"
      ],
      "text/plain": [
       "<IPython.core.display.Math object>"
      ]
     },
     "metadata": {},
     "output_type": "display_data"
    }
   ],
   "source": [
    "ans5 = 10 **(x-4)\n",
    "display(Math('10^{x-4} = %g' %(ans5)))"
   ]
  },
  {
   "cell_type": "code",
   "execution_count": 50,
   "id": "4ad96842-9434-4604-9d70-d1df9e6ad14f",
   "metadata": {},
   "outputs": [
    {
     "name": "stdout",
     "output_type": "stream",
     "text": [
      "0\n",
      "2\n",
      "4\n",
      "6\n"
     ]
    }
   ],
   "source": [
    "for i in [0,1,2,3]:\n",
    "    print(i*2)"
   ]
  },
  {
   "cell_type": "code",
   "execution_count": 51,
   "id": "1faef9f1-022b-4303-af60-1a2b4b6dd7bd",
   "metadata": {},
   "outputs": [
    {
     "data": {
      "text/plain": [
       "[0, 1, 2]"
      ]
     },
     "execution_count": 51,
     "metadata": {},
     "output_type": "execute_result"
    }
   ],
   "source": [
    "list(range(0,3))"
   ]
  },
  {
   "cell_type": "code",
   "execution_count": 52,
   "id": "627f2fe6-830d-4c98-899a-7a57665dd0ed",
   "metadata": {},
   "outputs": [
    {
     "name": "stdout",
     "output_type": "stream",
     "text": [
      "This is the 0gth iteration.\n",
      "This is the 1gth iteration.\n",
      "This is the 2gth iteration.\n"
     ]
    }
   ],
   "source": [
    "for qwerty in range(0,3):\n",
    "    print(f'This is the {qwerty}gth iteration.')"
   ]
  },
  {
   "cell_type": "code",
   "execution_count": 53,
   "id": "e6f12c9c-c0c9-4228-8fcf-d5fe72d4ab39",
   "metadata": {},
   "outputs": [
    {
     "name": "stdout",
     "output_type": "stream",
     "text": [
      "0\n",
      "1\n",
      "4\n",
      "9\n",
      "16\n"
     ]
    }
   ],
   "source": [
    "for t in range(0,5):\n",
    "    num = t**2\n",
    "    print(num)"
   ]
  },
  {
   "cell_type": "code",
   "execution_count": 58,
   "id": "99ca6d29-7d5c-4e4c-bda4-cdbde2975b40",
   "metadata": {},
   "outputs": [
    {
     "name": "stdout",
     "output_type": "stream",
     "text": [
      "4 to the power of 0 is 1\n",
      "4 to the power of 1 is 4\n",
      "4 to the power of 2 is 16\n",
      "4 to the power of 3 is 64\n",
      "4 to the power of 4 is 256\n",
      "4 to the power of 5 is 1024\n",
      "4 to the power of 6 is 4096\n",
      "4 to the power of 7 is 16384\n",
      "4 to the power of 8 is 65536\n",
      "4 to the power of 9 is 262144\n"
     ]
    }
   ],
   "source": [
    "base = 4\n",
    "for i in range(0,10):\n",
    "    print(f'%g to the power of %g is %g' %(base, i, base**i))"
   ]
  },
  {
   "cell_type": "code",
   "execution_count": 62,
   "id": "7a9627b8-1f2c-44d7-901c-7df029e5ba67",
   "metadata": {},
   "outputs": [
    {
     "name": "stdout",
     "output_type": "stream",
     "text": [
      "9\n",
      "9\n",
      "13\n",
      "7\n"
     ]
    }
   ],
   "source": [
    "# Precedência de operações\n",
    "print(4+3*2-1)\n",
    "print(4+(3*2)-1)\n",
    "print((4+3)*2-1)\n",
    "print((4+3)*(2-1))"
   ]
  },
  {
   "cell_type": "code",
   "execution_count": 63,
   "id": "eb2df222-c5bd-486d-92f5-5b4a87a3641f",
   "metadata": {},
   "outputs": [
    {
     "data": {
      "text/plain": [
       "2.0"
      ]
     },
     "execution_count": 63,
     "metadata": {},
     "output_type": "execute_result"
    }
   ],
   "source": [
    "(4*5)/(7+3)"
   ]
  },
  {
   "cell_type": "code",
   "execution_count": 64,
   "id": "81b21259-1e42-4a39-ac48-07398be918f7",
   "metadata": {},
   "outputs": [
    {
     "data": {
      "text/plain": [
       "0.0"
      ]
     },
     "execution_count": 64,
     "metadata": {},
     "output_type": "execute_result"
    }
   ],
   "source": [
    "9 / (3+6)-1"
   ]
  },
  {
   "cell_type": "code",
   "execution_count": 69,
   "id": "7293cdd2-ae3c-4938-b43f-5d672f41d4a9",
   "metadata": {},
   "outputs": [
    {
     "name": "stdout",
     "output_type": "stream",
     "text": [
      "False\n",
      "True\n"
     ]
    }
   ],
   "source": [
    "x = 2\n",
    "x = 3\n",
    "x = 4\n",
    "\n",
    "print(4*x + 3 < 17 - x**2)\n",
    "print(8*x-2 <= -3*x + 42)"
   ]
  },
  {
   "cell_type": "code",
   "execution_count": 75,
   "id": "863898f5-e70d-46f8-a14e-d8e6e703d972",
   "metadata": {},
   "outputs": [
    {
     "data": {
      "text/latex": [
       "$\\displaystyle 1^{-1} = 1$"
      ],
      "text/plain": [
       "<IPython.core.display.Math object>"
      ]
     },
     "metadata": {},
     "output_type": "display_data"
    },
    {
     "data": {
      "text/latex": [
       "$\\displaystyle 1^{-2} = 1$"
      ],
      "text/plain": [
       "<IPython.core.display.Math object>"
      ]
     },
     "metadata": {},
     "output_type": "display_data"
    },
    {
     "data": {
      "text/latex": [
       "$\\displaystyle 1^{-3} = 1$"
      ],
      "text/plain": [
       "<IPython.core.display.Math object>"
      ]
     },
     "metadata": {},
     "output_type": "display_data"
    },
    {
     "data": {
      "text/latex": [
       "$\\displaystyle 1^{-4} = 1$"
      ],
      "text/plain": [
       "<IPython.core.display.Math object>"
      ]
     },
     "metadata": {},
     "output_type": "display_data"
    },
    {
     "data": {
      "text/latex": [
       "$\\displaystyle 2^{-1} = 0.5$"
      ],
      "text/plain": [
       "<IPython.core.display.Math object>"
      ]
     },
     "metadata": {},
     "output_type": "display_data"
    },
    {
     "data": {
      "text/latex": [
       "$\\displaystyle 2^{-2} = 0.25$"
      ],
      "text/plain": [
       "<IPython.core.display.Math object>"
      ]
     },
     "metadata": {},
     "output_type": "display_data"
    },
    {
     "data": {
      "text/latex": [
       "$\\displaystyle 2^{-3} = 0.125$"
      ],
      "text/plain": [
       "<IPython.core.display.Math object>"
      ]
     },
     "metadata": {},
     "output_type": "display_data"
    },
    {
     "data": {
      "text/latex": [
       "$\\displaystyle 2^{-4} = 0.0625$"
      ],
      "text/plain": [
       "<IPython.core.display.Math object>"
      ]
     },
     "metadata": {},
     "output_type": "display_data"
    },
    {
     "data": {
      "text/latex": [
       "$\\displaystyle 3^{-1} = 0.333333$"
      ],
      "text/plain": [
       "<IPython.core.display.Math object>"
      ]
     },
     "metadata": {},
     "output_type": "display_data"
    },
    {
     "data": {
      "text/latex": [
       "$\\displaystyle 3^{-2} = 0.111111$"
      ],
      "text/plain": [
       "<IPython.core.display.Math object>"
      ]
     },
     "metadata": {},
     "output_type": "display_data"
    },
    {
     "data": {
      "text/latex": [
       "$\\displaystyle 3^{-3} = 0.037037$"
      ],
      "text/plain": [
       "<IPython.core.display.Math object>"
      ]
     },
     "metadata": {},
     "output_type": "display_data"
    },
    {
     "data": {
      "text/latex": [
       "$\\displaystyle 3^{-4} = 0.0123457$"
      ],
      "text/plain": [
       "<IPython.core.display.Math object>"
      ]
     },
     "metadata": {},
     "output_type": "display_data"
    }
   ],
   "source": [
    "for i in range(0,4):\n",
    "    for j in range(0,5):\n",
    "        if i > 0 and j>0:\n",
    "            display(Math('%g^{-%g} = %g' %(i,j,i**-j)))"
   ]
  },
  {
   "cell_type": "code",
   "execution_count": null,
   "id": "2c462a7b-141f-468d-bae6-56de2bcd4895",
   "metadata": {},
   "outputs": [],
   "source": []
  }
 ],
 "metadata": {
  "kernelspec": {
   "display_name": "Python 3 (ipykernel)",
   "language": "python",
   "name": "python3"
  },
  "language_info": {
   "codemirror_mode": {
    "name": "ipython",
    "version": 3
   },
   "file_extension": ".py",
   "mimetype": "text/x-python",
   "name": "python",
   "nbconvert_exporter": "python",
   "pygments_lexer": "ipython3",
   "version": "3.11.7"
  }
 },
 "nbformat": 4,
 "nbformat_minor": 5
}
