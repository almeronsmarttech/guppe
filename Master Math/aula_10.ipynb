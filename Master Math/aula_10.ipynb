{
 "cells": [
  {
   "cell_type": "code",
   "id": "initial_id",
   "metadata": {
    "collapsed": true,
    "ExecuteTime": {
     "end_time": "2025-04-06T16:22:03.373868Z",
     "start_time": "2025-04-06T16:22:03.361870Z"
    }
   },
   "source": [
    "from IPython.display import display, Math\n",
    "\n",
    "display('x + y = 50')\n",
    "\n",
    "display(Math('x + y = 50'))"
   ],
   "outputs": [
    {
     "data": {
      "text/plain": [
       "'x + y = 50'"
      ]
     },
     "metadata": {},
     "output_type": "display_data"
    },
    {
     "data": {
      "text/plain": [
       "<IPython.core.display.Math object>"
      ],
      "text/latex": "$\\displaystyle x + y = 50$"
     },
     "metadata": {},
     "output_type": "display_data"
    }
   ],
   "execution_count": 34
  },
  {
   "metadata": {
    "ExecuteTime": {
     "end_time": "2025-04-06T16:22:03.330673300Z",
     "start_time": "2025-04-06T14:21:50.196468Z"
    }
   },
   "cell_type": "code",
   "source": [
    "x = 10\n",
    "y = 20\n",
    "display(Math('%g + %g = %g' %(x,y,x+y)))"
   ],
   "id": "2cd9ba0310e2e4da",
   "outputs": [
    {
     "data": {
      "text/plain": [
       "<IPython.core.display.Math object>"
      ],
      "text/latex": "$\\displaystyle 10 + 20 = 30$"
     },
     "metadata": {},
     "output_type": "display_data"
    }
   ],
   "execution_count": 12
  },
  {
   "metadata": {
    "ExecuteTime": {
     "end_time": "2025-04-06T16:22:03.347299300Z",
     "start_time": "2025-04-06T14:23:20.975774Z"
    }
   },
   "cell_type": "code",
   "source": "display(Math('\\\\frac{x}{y}'))",
   "id": "87369f70f4d94b4",
   "outputs": [
    {
     "data": {
      "text/plain": [
       "<IPython.core.display.Math object>"
      ],
      "text/latex": "$\\displaystyle \\frac{x}{y}$"
     },
     "metadata": {},
     "output_type": "display_data"
    }
   ],
   "execution_count": 13
  },
  {
   "metadata": {
    "ExecuteTime": {
     "end_time": "2025-04-06T16:22:03.349294300Z",
     "start_time": "2025-04-06T14:26:28.013287Z"
    }
   },
   "cell_type": "code",
   "source": [
    "a = 3.4\n",
    "b = 17\n",
    "display(Math('%g \\\\times %g = %g' %(a,b,a*b)))"
   ],
   "id": "8c6b42c0622401a",
   "outputs": [
    {
     "data": {
      "text/plain": [
       "<IPython.core.display.Math object>"
      ],
      "text/latex": "$\\displaystyle 3.4 \\times 17 = 57.8$"
     },
     "metadata": {},
     "output_type": "display_data"
    }
   ],
   "execution_count": 17
  },
  {
   "metadata": {
    "ExecuteTime": {
     "end_time": "2025-04-06T16:22:03.350366800Z",
     "start_time": "2025-04-06T14:37:50.655654Z"
    }
   },
   "cell_type": "code",
   "source": [
    "x = 7\n",
    "y = -2\n",
    "z = 5\n",
    "\n",
    "ans1 = 3*x*(4+y)\n",
    "display(Math('3x(4+y) = %g' %(ans1)))\n",
    "display(Math('3 \\\\times %g(4+%g) = %g' %(x, y, ans1)))\n"
   ],
   "id": "23388e36e371b044",
   "outputs": [
    {
     "data": {
      "text/plain": [
       "<IPython.core.display.Math object>"
      ],
      "text/latex": "$\\displaystyle 3x(4+y) = 42$"
     },
     "metadata": {},
     "output_type": "display_data"
    },
    {
     "data": {
      "text/plain": [
       "<IPython.core.display.Math object>"
      ],
      "text/latex": "$\\displaystyle 3 \\times 7(4+-2) = 42$"
     },
     "metadata": {},
     "output_type": "display_data"
    }
   ],
   "execution_count": 32
  },
  {
   "metadata": {
    "ExecuteTime": {
     "end_time": "2025-04-06T16:46:24.305695Z",
     "start_time": "2025-04-06T16:46:24.291476Z"
    }
   },
   "cell_type": "code",
   "source": [
    "ans2 = -y-(x+3)/z\n",
    "display(Math('-y-\\\\frac {(x+3)}{z} = %g' %(ans2)))\n",
    "\n",
    "display(Math('- %g - \\\\frac {(%g+3)} {%g} = %g' %(y,x,z,ans2)))"
   ],
   "id": "ba54bb59e35c0ddf",
   "outputs": [
    {
     "data": {
      "text/plain": [
       "<IPython.core.display.Math object>"
      ],
      "text/latex": "$\\displaystyle -y-\\frac {(x+3)}{z} = 0$"
     },
     "metadata": {},
     "output_type": "display_data"
    },
    {
     "data": {
      "text/plain": [
       "<IPython.core.display.Math object>"
      ],
      "text/latex": "$\\displaystyle - -2 - \\frac {(7+3)} {5} = 0$"
     },
     "metadata": {},
     "output_type": "display_data"
    }
   ],
   "execution_count": 35
  },
  {
   "metadata": {
    "ExecuteTime": {
     "end_time": "2025-04-06T16:46:30.137184Z",
     "start_time": "2025-04-06T16:46:30.112410Z"
    }
   },
   "cell_type": "code",
   "source": "3**2",
   "id": "b5d3fbe3d39c342e",
   "outputs": [
    {
     "data": {
      "text/plain": [
       "9"
      ]
     },
     "execution_count": 36,
     "metadata": {},
     "output_type": "execute_result"
    }
   ],
   "execution_count": 36
  },
  {
   "metadata": {
    "ExecuteTime": {
     "end_time": "2025-04-06T16:47:00.978261Z",
     "start_time": "2025-04-06T16:47:00.967783Z"
    }
   },
   "cell_type": "code",
   "source": [
    "x = 2\n",
    "3**x"
   ],
   "id": "a95b6cb74800e081",
   "outputs": [
    {
     "data": {
      "text/plain": [
       "9"
      ]
     },
     "execution_count": 37,
     "metadata": {},
     "output_type": "execute_result"
    }
   ],
   "execution_count": 37
  },
  {
   "metadata": {
    "ExecuteTime": {
     "end_time": "2025-04-06T16:48:01.139620Z",
     "start_time": "2025-04-06T16:48:01.134140Z"
    }
   },
   "cell_type": "code",
   "source": [
    "print(3**3)\n",
    "print(3*3*3)"
   ],
   "id": "6cd29ba55cb922d7",
   "outputs": [
    {
     "name": "stdout",
     "output_type": "stream",
     "text": [
      "27\n",
      "27\n"
     ]
    }
   ],
   "execution_count": 39
  },
  {
   "metadata": {
    "ExecuteTime": {
     "end_time": "2025-04-06T16:49:53.942112Z",
     "start_time": "2025-04-06T16:49:53.936230Z"
    }
   },
   "cell_type": "code",
   "source": [
    "print(3**2 * 3**4)\n",
    "print(3**(2+4))"
   ],
   "id": "f1b0cbf549fbf4fc",
   "outputs": [
    {
     "name": "stdout",
     "output_type": "stream",
     "text": [
      "729\n",
      "729\n"
     ]
    }
   ],
   "execution_count": 41
  },
  {
   "metadata": {
    "ExecuteTime": {
     "end_time": "2025-04-06T16:51:25.322760Z",
     "start_time": "2025-04-06T16:51:25.315085Z"
    }
   },
   "cell_type": "code",
   "source": [
    "print(5**1/2)\n",
    "print(5**(1/2))"
   ],
   "id": "85c4deaa5175ac08",
   "outputs": [
    {
     "name": "stdout",
     "output_type": "stream",
     "text": [
      "2.5\n",
      "2.23606797749979\n"
     ]
    }
   ],
   "execution_count": 45
  },
  {
   "metadata": {
    "ExecuteTime": {
     "end_time": "2025-04-06T16:56:07.569169Z",
     "start_time": "2025-04-06T16:56:07.554533Z"
    }
   },
   "cell_type": "code",
   "source": [
    "display(Math('1+2=3'))\n",
    "display(Math('3^2=%g' %(3**2)))\n",
    "display(Math('3^2\\\\times 3^4 = 3^{2+4}'))"
   ],
   "id": "dd7e0f4ed7f40c2e",
   "outputs": [
    {
     "data": {
      "text/plain": [
       "<IPython.core.display.Math object>"
      ],
      "text/latex": "$\\displaystyle 1+2=3$"
     },
     "metadata": {},
     "output_type": "display_data"
    },
    {
     "data": {
      "text/plain": [
       "<IPython.core.display.Math object>"
      ],
      "text/latex": "$\\displaystyle 3^2=9$"
     },
     "metadata": {},
     "output_type": "display_data"
    },
    {
     "data": {
      "text/plain": [
       "<IPython.core.display.Math object>"
      ],
      "text/latex": "$\\displaystyle 3^2\\times 3^4 = 3^{2+4}$"
     },
     "metadata": {},
     "output_type": "display_data"
    }
   ],
   "execution_count": 51
  },
  {
   "metadata": {
    "ExecuteTime": {
     "end_time": "2025-04-06T16:59:45.244627Z",
     "start_time": "2025-04-06T16:59:45.236293Z"
    }
   },
   "cell_type": "code",
   "source": [
    "x = 5\n",
    "y = 5.1\n",
    "ans3 = x**(3/4) * 4**y\n",
    "display(Math('x^{3/4} \\\\times 4^y = %g' %(ans3)))"
   ],
   "id": "fee63e21ec0d1600",
   "outputs": [
    {
     "data": {
      "text/plain": [
       "<IPython.core.display.Math object>"
      ],
      "text/latex": "$\\displaystyle x^{3/4} \\times 4^y = 3933.09$"
     },
     "metadata": {},
     "output_type": "display_data"
    }
   ],
   "execution_count": 57
  },
  {
   "metadata": {
    "ExecuteTime": {
     "end_time": "2025-04-06T17:01:26.119073Z",
     "start_time": "2025-04-06T17:01:26.110623Z"
    }
   },
   "cell_type": "code",
   "source": [
    "ans4 = (3**3)/(x**y)\n",
    "display(Math('\\\\frac{3^3}{x^y} = %g' %(ans4)))"
   ],
   "id": "5df96c41132cb8af",
   "outputs": [
    {
     "data": {
      "text/plain": [
       "<IPython.core.display.Math object>"
      ],
      "text/latex": "$\\displaystyle \\frac{3^3}{x^y} = 0.00735558$"
     },
     "metadata": {},
     "output_type": "display_data"
    }
   ],
   "execution_count": 59
  },
  {
   "metadata": {
    "ExecuteTime": {
     "end_time": "2025-04-06T17:02:26.406136Z",
     "start_time": "2025-04-06T17:02:26.399316Z"
    }
   },
   "cell_type": "code",
   "source": [
    "ans5 = 10 **(x-4)\n",
    "display(Math('10^{x-4} = %g' %(ans5)))"
   ],
   "id": "80a2bcdeb4104084",
   "outputs": [
    {
     "data": {
      "text/plain": [
       "<IPython.core.display.Math object>"
      ],
      "text/latex": "$\\displaystyle 10^{x-4} = 10$"
     },
     "metadata": {},
     "output_type": "display_data"
    }
   ],
   "execution_count": 60
  },
  {
   "metadata": {},
   "cell_type": "code",
   "outputs": [],
   "execution_count": null,
   "source": "",
   "id": "cacfcdb2328a3a84"
  }
 ],
 "metadata": {
  "kernelspec": {
   "display_name": "Python 3",
   "language": "python",
   "name": "python3"
  },
  "language_info": {
   "codemirror_mode": {
    "name": "ipython",
    "version": 2
   },
   "file_extension": ".py",
   "mimetype": "text/x-python",
   "name": "python",
   "nbconvert_exporter": "python",
   "pygments_lexer": "ipython2",
   "version": "2.7.6"
  }
 },
 "nbformat": 4,
 "nbformat_minor": 5
}
