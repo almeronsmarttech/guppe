{
 "cells": [
  {
   "cell_type": "code",
   "id": "initial_id",
   "metadata": {
    "ExecuteTime": {
     "end_time": "2025-05-07T11:55:20.677898Z",
     "start_time": "2025-05-07T11:55:20.665849Z"
    }
   },
   "source": [
    "from IPython.display import display, Math\n",
    "\n",
    "display('x + y = 50')\n",
    "\n",
    "display(Math('x + y = 50'))"
   ],
   "outputs": [
    {
     "data": {
      "text/plain": [
       "'x + y = 50'"
      ]
     },
     "metadata": {},
     "output_type": "display_data"
    },
    {
     "data": {
      "text/plain": [
       "<IPython.core.display.Math object>"
      ],
      "text/latex": "$\\displaystyle x + y = 50$"
     },
     "metadata": {},
     "output_type": "display_data"
    }
   ],
   "execution_count": 1
  },
  {
   "cell_type": "code",
   "id": "2cd9ba0310e2e4da",
   "metadata": {
    "ExecuteTime": {
     "end_time": "2025-05-07T11:55:20.827510Z",
     "start_time": "2025-05-07T11:55:20.819602Z"
    }
   },
   "source": [
    "x = 10\n",
    "y = 20\n",
    "display(Math('%g + %g = %g' %(x,y,x+y)))"
   ],
   "outputs": [
    {
     "data": {
      "text/plain": [
       "<IPython.core.display.Math object>"
      ],
      "text/latex": "$\\displaystyle 10 + 20 = 30$"
     },
     "metadata": {},
     "output_type": "display_data"
    }
   ],
   "execution_count": 2
  },
  {
   "cell_type": "code",
   "id": "87369f70f4d94b4",
   "metadata": {
    "ExecuteTime": {
     "end_time": "2025-05-07T11:55:21.530044Z",
     "start_time": "2025-05-07T11:55:21.520957Z"
    }
   },
   "source": [
    "display(Math('\\\\frac{x}{y}'))"
   ],
   "outputs": [
    {
     "data": {
      "text/plain": [
       "<IPython.core.display.Math object>"
      ],
      "text/latex": "$\\displaystyle \\frac{x}{y}$"
     },
     "metadata": {},
     "output_type": "display_data"
    }
   ],
   "execution_count": 3
  },
  {
   "cell_type": "code",
   "id": "8c6b42c0622401a",
   "metadata": {
    "ExecuteTime": {
     "end_time": "2025-05-07T11:55:21.658850Z",
     "start_time": "2025-05-07T11:55:21.651709Z"
    }
   },
   "source": [
    "a = 3.4\n",
    "b = 17\n",
    "display(Math('%g \\\\times %g = %g' %(a,b,a*b)))"
   ],
   "outputs": [
    {
     "data": {
      "text/plain": [
       "<IPython.core.display.Math object>"
      ],
      "text/latex": "$\\displaystyle 3.4 \\times 17 = 57.8$"
     },
     "metadata": {},
     "output_type": "display_data"
    }
   ],
   "execution_count": 4
  },
  {
   "cell_type": "code",
   "id": "23388e36e371b044",
   "metadata": {
    "ExecuteTime": {
     "end_time": "2025-05-07T11:55:21.744662Z",
     "start_time": "2025-05-07T11:55:21.730200Z"
    }
   },
   "source": [
    "x = 7\n",
    "y = -2\n",
    "z = 5\n",
    "\n",
    "ans1 = 3*x*(4+y)\n",
    "display(Math('3x(4+y) = %g' %(ans1)))\n",
    "display(Math('3 \\\\times %g(4+%g) = %g' %(x, y, ans1)))\n"
   ],
   "outputs": [
    {
     "data": {
      "text/plain": [
       "<IPython.core.display.Math object>"
      ],
      "text/latex": "$\\displaystyle 3x(4+y) = 42$"
     },
     "metadata": {},
     "output_type": "display_data"
    },
    {
     "data": {
      "text/plain": [
       "<IPython.core.display.Math object>"
      ],
      "text/latex": "$\\displaystyle 3 \\times 7(4+-2) = 42$"
     },
     "metadata": {},
     "output_type": "display_data"
    }
   ],
   "execution_count": 5
  },
  {
   "cell_type": "code",
   "id": "ba54bb59e35c0ddf",
   "metadata": {
    "ExecuteTime": {
     "end_time": "2025-05-07T11:55:21.836450Z",
     "start_time": "2025-05-07T11:55:21.824543Z"
    }
   },
   "source": [
    "ans2 = -y-(x+3)/z\n",
    "display(Math('-y-\\\\frac {(x+3)}{z} = %g' %(ans2)))\n",
    "\n",
    "display(Math('- %g - \\\\frac {(%g+3)} {%g} = %g' %(y,x,z,ans2)))"
   ],
   "outputs": [
    {
     "data": {
      "text/plain": [
       "<IPython.core.display.Math object>"
      ],
      "text/latex": "$\\displaystyle -y-\\frac {(x+3)}{z} = 0$"
     },
     "metadata": {},
     "output_type": "display_data"
    },
    {
     "data": {
      "text/plain": [
       "<IPython.core.display.Math object>"
      ],
      "text/latex": "$\\displaystyle - -2 - \\frac {(7+3)} {5} = 0$"
     },
     "metadata": {},
     "output_type": "display_data"
    }
   ],
   "execution_count": 6
  },
  {
   "cell_type": "code",
   "id": "b5d3fbe3d39c342e",
   "metadata": {
    "ExecuteTime": {
     "end_time": "2025-05-07T11:55:21.916600Z",
     "start_time": "2025-05-07T11:55:21.905107Z"
    }
   },
   "source": [
    "3**2"
   ],
   "outputs": [
    {
     "data": {
      "text/plain": [
       "9"
      ]
     },
     "execution_count": 7,
     "metadata": {},
     "output_type": "execute_result"
    }
   ],
   "execution_count": 7
  },
  {
   "cell_type": "code",
   "id": "a95b6cb74800e081",
   "metadata": {
    "ExecuteTime": {
     "end_time": "2025-05-07T11:55:21.998811Z",
     "start_time": "2025-05-07T11:55:21.992109Z"
    }
   },
   "source": [
    "x = 2\n",
    "3**x"
   ],
   "outputs": [
    {
     "data": {
      "text/plain": [
       "9"
      ]
     },
     "execution_count": 8,
     "metadata": {},
     "output_type": "execute_result"
    }
   ],
   "execution_count": 8
  },
  {
   "cell_type": "code",
   "id": "6cd29ba55cb922d7",
   "metadata": {
    "ExecuteTime": {
     "end_time": "2025-05-07T11:55:22.082845Z",
     "start_time": "2025-05-07T11:55:22.077240Z"
    }
   },
   "source": [
    "print(3**3)\n",
    "print(3*3*3)"
   ],
   "outputs": [
    {
     "name": "stdout",
     "output_type": "stream",
     "text": [
      "27\n",
      "27\n"
     ]
    }
   ],
   "execution_count": 9
  },
  {
   "cell_type": "code",
   "id": "f1b0cbf549fbf4fc",
   "metadata": {
    "ExecuteTime": {
     "end_time": "2025-05-07T11:55:22.166612Z",
     "start_time": "2025-05-07T11:55:22.161718Z"
    }
   },
   "source": [
    "print(3**2 * 3**4)\n",
    "print(3**(2+4))"
   ],
   "outputs": [
    {
     "name": "stdout",
     "output_type": "stream",
     "text": [
      "729\n",
      "729\n"
     ]
    }
   ],
   "execution_count": 10
  },
  {
   "cell_type": "code",
   "id": "85c4deaa5175ac08",
   "metadata": {
    "ExecuteTime": {
     "end_time": "2025-05-07T11:55:22.229142Z",
     "start_time": "2025-05-07T11:55:22.225055Z"
    }
   },
   "source": [
    "print(5**1/2)\n",
    "print(5**(1/2))"
   ],
   "outputs": [
    {
     "name": "stdout",
     "output_type": "stream",
     "text": [
      "2.5\n",
      "2.23606797749979\n"
     ]
    }
   ],
   "execution_count": 11
  },
  {
   "cell_type": "code",
   "id": "dd7e0f4ed7f40c2e",
   "metadata": {
    "ExecuteTime": {
     "end_time": "2025-05-07T11:55:22.322242Z",
     "start_time": "2025-05-07T11:55:22.308022Z"
    }
   },
   "source": [
    "display(Math('1+2=3'))\n",
    "display(Math('3^2=%g' %(3**2)))\n",
    "display(Math('3^2\\\\times 3^4 = 3^{2+4}'))"
   ],
   "outputs": [
    {
     "data": {
      "text/plain": [
       "<IPython.core.display.Math object>"
      ],
      "text/latex": "$\\displaystyle 1+2=3$"
     },
     "metadata": {},
     "output_type": "display_data"
    },
    {
     "data": {
      "text/plain": [
       "<IPython.core.display.Math object>"
      ],
      "text/latex": "$\\displaystyle 3^2=9$"
     },
     "metadata": {},
     "output_type": "display_data"
    },
    {
     "data": {
      "text/plain": [
       "<IPython.core.display.Math object>"
      ],
      "text/latex": "$\\displaystyle 3^2\\times 3^4 = 3^{2+4}$"
     },
     "metadata": {},
     "output_type": "display_data"
    }
   ],
   "execution_count": 12
  },
  {
   "cell_type": "code",
   "id": "fee63e21ec0d1600",
   "metadata": {
    "ExecuteTime": {
     "end_time": "2025-05-07T11:55:22.454497Z",
     "start_time": "2025-05-07T11:55:22.441659Z"
    }
   },
   "source": [
    "x = 5\n",
    "y = 5.1\n",
    "ans3 = x**(3/4) * 4**y\n",
    "display(Math('x^{3/4} \\\\times 4^y = %g' %(ans3)))"
   ],
   "outputs": [
    {
     "data": {
      "text/plain": [
       "<IPython.core.display.Math object>"
      ],
      "text/latex": "$\\displaystyle x^{3/4} \\times 4^y = 3933.09$"
     },
     "metadata": {},
     "output_type": "display_data"
    }
   ],
   "execution_count": 13
  },
  {
   "cell_type": "code",
   "id": "5df96c41132cb8af",
   "metadata": {
    "ExecuteTime": {
     "end_time": "2025-05-07T11:55:22.550537Z",
     "start_time": "2025-05-07T11:55:22.541305Z"
    }
   },
   "source": [
    "ans4 = (3**3)/(x**y)\n",
    "display(Math('\\\\frac{3^3}{x^y} = %g' %(ans4)))"
   ],
   "outputs": [
    {
     "data": {
      "text/plain": [
       "<IPython.core.display.Math object>"
      ],
      "text/latex": "$\\displaystyle \\frac{3^3}{x^y} = 0.00735558$"
     },
     "metadata": {},
     "output_type": "display_data"
    }
   ],
   "execution_count": 14
  },
  {
   "cell_type": "code",
   "id": "80a2bcdeb4104084",
   "metadata": {
    "ExecuteTime": {
     "end_time": "2025-05-07T11:55:22.631383Z",
     "start_time": "2025-05-07T11:55:22.622124Z"
    }
   },
   "source": [
    "ans5 = 10 **(x-4)\n",
    "display(Math('10^{x-4} = %g' %(ans5)))"
   ],
   "outputs": [
    {
     "data": {
      "text/plain": [
       "<IPython.core.display.Math object>"
      ],
      "text/latex": "$\\displaystyle 10^{x-4} = 10$"
     },
     "metadata": {},
     "output_type": "display_data"
    }
   ],
   "execution_count": 15
  },
  {
   "cell_type": "code",
   "id": "4ad96842-9434-4604-9d70-d1df9e6ad14f",
   "metadata": {
    "ExecuteTime": {
     "end_time": "2025-05-07T11:55:22.719966Z",
     "start_time": "2025-05-07T11:55:22.709593Z"
    }
   },
   "source": [
    "for i in [0,1,2,3]:\n",
    "    print(i*2)"
   ],
   "outputs": [
    {
     "name": "stdout",
     "output_type": "stream",
     "text": [
      "0\n",
      "2\n",
      "4\n",
      "6\n"
     ]
    }
   ],
   "execution_count": 16
  },
  {
   "cell_type": "code",
   "id": "1faef9f1-022b-4303-af60-1a2b4b6dd7bd",
   "metadata": {
    "ExecuteTime": {
     "end_time": "2025-05-07T11:55:22.805273Z",
     "start_time": "2025-05-07T11:55:22.798994Z"
    }
   },
   "source": [
    "list(range(0,3))"
   ],
   "outputs": [
    {
     "data": {
      "text/plain": [
       "[0, 1, 2]"
      ]
     },
     "execution_count": 17,
     "metadata": {},
     "output_type": "execute_result"
    }
   ],
   "execution_count": 17
  },
  {
   "cell_type": "code",
   "id": "627f2fe6-830d-4c98-899a-7a57665dd0ed",
   "metadata": {
    "ExecuteTime": {
     "end_time": "2025-05-07T11:55:22.866643Z",
     "start_time": "2025-05-07T11:55:22.858707Z"
    }
   },
   "source": [
    "for qwerty in range(0,3):\n",
    "    print(f'This is the {qwerty}gth iteration.')"
   ],
   "outputs": [
    {
     "name": "stdout",
     "output_type": "stream",
     "text": [
      "This is the 0gth iteration.\n",
      "This is the 1gth iteration.\n",
      "This is the 2gth iteration.\n"
     ]
    }
   ],
   "execution_count": 18
  },
  {
   "cell_type": "code",
   "id": "e6f12c9c-c0c9-4228-8fcf-d5fe72d4ab39",
   "metadata": {
    "ExecuteTime": {
     "end_time": "2025-05-07T11:55:22.963208Z",
     "start_time": "2025-05-07T11:55:22.954244Z"
    }
   },
   "source": [
    "for t in range(0,5):\n",
    "    num = t**2\n",
    "    print(num)"
   ],
   "outputs": [
    {
     "name": "stdout",
     "output_type": "stream",
     "text": [
      "0\n",
      "1\n",
      "4\n",
      "9\n",
      "16\n"
     ]
    }
   ],
   "execution_count": 19
  },
  {
   "cell_type": "code",
   "id": "99ca6d29-7d5c-4e4c-bda4-cdbde2975b40",
   "metadata": {
    "ExecuteTime": {
     "end_time": "2025-05-07T11:55:23.046792Z",
     "start_time": "2025-05-07T11:55:23.041451Z"
    }
   },
   "source": [
    "base = 4\n",
    "for i in range(0,10):\n",
    "    print(f'%g to the power of %g is %g' %(base, i, base**i))"
   ],
   "outputs": [
    {
     "name": "stdout",
     "output_type": "stream",
     "text": [
      "4 to the power of 0 is 1\n",
      "4 to the power of 1 is 4\n",
      "4 to the power of 2 is 16\n",
      "4 to the power of 3 is 64\n",
      "4 to the power of 4 is 256\n",
      "4 to the power of 5 is 1024\n",
      "4 to the power of 6 is 4096\n",
      "4 to the power of 7 is 16384\n",
      "4 to the power of 8 is 65536\n",
      "4 to the power of 9 is 262144\n"
     ]
    }
   ],
   "execution_count": 20
  },
  {
   "cell_type": "code",
   "id": "7a9627b8-1f2c-44d7-901c-7df029e5ba67",
   "metadata": {
    "ExecuteTime": {
     "end_time": "2025-05-07T11:55:23.129814Z",
     "start_time": "2025-05-07T11:55:23.123068Z"
    }
   },
   "source": [
    "# Precedência de operações\n",
    "print(4+3*2-1)\n",
    "print(4+(3*2)-1)\n",
    "print((4+3)*2-1)\n",
    "print((4+3)*(2-1))"
   ],
   "outputs": [
    {
     "name": "stdout",
     "output_type": "stream",
     "text": [
      "9\n",
      "9\n",
      "13\n",
      "7\n"
     ]
    }
   ],
   "execution_count": 21
  },
  {
   "cell_type": "code",
   "id": "eb2df222-c5bd-486d-92f5-5b4a87a3641f",
   "metadata": {
    "ExecuteTime": {
     "end_time": "2025-05-07T11:55:23.186286Z",
     "start_time": "2025-05-07T11:55:23.178386Z"
    }
   },
   "source": [
    "(4*5)/(7+3)"
   ],
   "outputs": [
    {
     "data": {
      "text/plain": [
       "2.0"
      ]
     },
     "execution_count": 22,
     "metadata": {},
     "output_type": "execute_result"
    }
   ],
   "execution_count": 22
  },
  {
   "cell_type": "code",
   "id": "81b21259-1e42-4a39-ac48-07398be918f7",
   "metadata": {
    "ExecuteTime": {
     "end_time": "2025-05-07T11:55:23.254335Z",
     "start_time": "2025-05-07T11:55:23.244079Z"
    }
   },
   "source": [
    "9 / (3+6)-1"
   ],
   "outputs": [
    {
     "data": {
      "text/plain": [
       "0.0"
      ]
     },
     "execution_count": 23,
     "metadata": {},
     "output_type": "execute_result"
    }
   ],
   "execution_count": 23
  },
  {
   "cell_type": "code",
   "id": "7293cdd2-ae3c-4938-b43f-5d672f41d4a9",
   "metadata": {
    "ExecuteTime": {
     "end_time": "2025-05-07T11:55:23.310991Z",
     "start_time": "2025-05-07T11:55:23.303340Z"
    }
   },
   "source": [
    "x = 2\n",
    "x = 3\n",
    "x = 4\n",
    "\n",
    "print(4*x + 3 < 17 - x**2)\n",
    "print(8*x-2 <= -3*x + 42)"
   ],
   "outputs": [
    {
     "name": "stdout",
     "output_type": "stream",
     "text": [
      "False\n",
      "True\n"
     ]
    }
   ],
   "execution_count": 24
  },
  {
   "cell_type": "code",
   "id": "863898f5-e70d-46f8-a14e-d8e6e703d972",
   "metadata": {
    "ExecuteTime": {
     "end_time": "2025-05-07T11:55:23.400573Z",
     "start_time": "2025-05-07T11:55:23.358954Z"
    }
   },
   "source": [
    "for i in range(0,4):\n",
    "    for j in range(0,5):\n",
    "        if i > 0 and j>0:\n",
    "            display(Math('%g^{-%g} = %g' %(i,j,i**-j)))"
   ],
   "outputs": [
    {
     "data": {
      "text/plain": [
       "<IPython.core.display.Math object>"
      ],
      "text/latex": "$\\displaystyle 1^{-1} = 1$"
     },
     "metadata": {},
     "output_type": "display_data"
    },
    {
     "data": {
      "text/plain": [
       "<IPython.core.display.Math object>"
      ],
      "text/latex": "$\\displaystyle 1^{-2} = 1$"
     },
     "metadata": {},
     "output_type": "display_data"
    },
    {
     "data": {
      "text/plain": [
       "<IPython.core.display.Math object>"
      ],
      "text/latex": "$\\displaystyle 1^{-3} = 1$"
     },
     "metadata": {},
     "output_type": "display_data"
    },
    {
     "data": {
      "text/plain": [
       "<IPython.core.display.Math object>"
      ],
      "text/latex": "$\\displaystyle 1^{-4} = 1$"
     },
     "metadata": {},
     "output_type": "display_data"
    },
    {
     "data": {
      "text/plain": [
       "<IPython.core.display.Math object>"
      ],
      "text/latex": "$\\displaystyle 2^{-1} = 0.5$"
     },
     "metadata": {},
     "output_type": "display_data"
    },
    {
     "data": {
      "text/plain": [
       "<IPython.core.display.Math object>"
      ],
      "text/latex": "$\\displaystyle 2^{-2} = 0.25$"
     },
     "metadata": {},
     "output_type": "display_data"
    },
    {
     "data": {
      "text/plain": [
       "<IPython.core.display.Math object>"
      ],
      "text/latex": "$\\displaystyle 2^{-3} = 0.125$"
     },
     "metadata": {},
     "output_type": "display_data"
    },
    {
     "data": {
      "text/plain": [
       "<IPython.core.display.Math object>"
      ],
      "text/latex": "$\\displaystyle 2^{-4} = 0.0625$"
     },
     "metadata": {},
     "output_type": "display_data"
    },
    {
     "data": {
      "text/plain": [
       "<IPython.core.display.Math object>"
      ],
      "text/latex": "$\\displaystyle 3^{-1} = 0.333333$"
     },
     "metadata": {},
     "output_type": "display_data"
    },
    {
     "data": {
      "text/plain": [
       "<IPython.core.display.Math object>"
      ],
      "text/latex": "$\\displaystyle 3^{-2} = 0.111111$"
     },
     "metadata": {},
     "output_type": "display_data"
    },
    {
     "data": {
      "text/plain": [
       "<IPython.core.display.Math object>"
      ],
      "text/latex": "$\\displaystyle 3^{-3} = 0.037037$"
     },
     "metadata": {},
     "output_type": "display_data"
    },
    {
     "data": {
      "text/plain": [
       "<IPython.core.display.Math object>"
      ],
      "text/latex": "$\\displaystyle 3^{-4} = 0.0123457$"
     },
     "metadata": {},
     "output_type": "display_data"
    }
   ],
   "execution_count": 25
  },
  {
   "cell_type": "code",
   "id": "2c462a7b-141f-468d-bae6-56de2bcd4895",
   "metadata": {
    "ExecuteTime": {
     "end_time": "2025-05-07T11:55:23.704707Z",
     "start_time": "2025-05-07T11:55:23.697874Z"
    }
   },
   "source": [
    "a = -4\n",
    "b = abs(a)\n",
    "a,b"
   ],
   "outputs": [
    {
     "data": {
      "text/plain": [
       "(-4, 4)"
      ]
     },
     "execution_count": 26,
     "metadata": {},
     "output_type": "execute_result"
    }
   ],
   "execution_count": 26
  },
  {
   "metadata": {
    "ExecuteTime": {
     "end_time": "2025-05-07T11:55:23.805723Z",
     "start_time": "2025-05-07T11:55:23.798397Z"
    }
   },
   "cell_type": "code",
   "source": [
    "x = 7\n",
    "display(Math('|%g| = %g' %(x,abs(x))))"
   ],
   "id": "5eacd981b3241c33",
   "outputs": [
    {
     "data": {
      "text/plain": [
       "<IPython.core.display.Math object>"
      ],
      "text/latex": "$\\displaystyle |7| = 7$"
     },
     "metadata": {},
     "output_type": "display_data"
    }
   ],
   "execution_count": 27
  },
  {
   "metadata": {
    "ExecuteTime": {
     "end_time": "2025-05-07T11:55:23.896698Z",
     "start_time": "2025-05-07T11:55:23.883285Z"
    }
   },
   "cell_type": "code",
   "source": "display(Math('|%g| = %g' %(y,abs(y))))",
   "id": "7c4d376e13c1ab6f",
   "outputs": [
    {
     "data": {
      "text/plain": [
       "<IPython.core.display.Math object>"
      ],
      "text/latex": "$\\displaystyle |5.1| = 5.1$"
     },
     "metadata": {},
     "output_type": "display_data"
    }
   ],
   "execution_count": 28
  },
  {
   "metadata": {
    "ExecuteTime": {
     "end_time": "2025-05-07T11:58:33.654424Z",
     "start_time": "2025-05-07T11:58:33.648438Z"
    }
   },
   "cell_type": "code",
   "source": [
    "a = 10\n",
    "b =3\n",
    "\n",
    "print(a/b)\n",
    "print(int(a/b))"
   ],
   "id": "e938829b46ecddd7",
   "outputs": [
    {
     "name": "stdout",
     "output_type": "stream",
     "text": [
      "3.3333333333333335\n",
      "3\n"
     ]
    }
   ],
   "execution_count": 31
  },
  {
   "metadata": {
    "ExecuteTime": {
     "end_time": "2025-05-07T11:59:40.139671Z",
     "start_time": "2025-05-07T11:59:40.131184Z"
    }
   },
   "cell_type": "code",
   "source": "a%b",
   "id": "5759d0ef078d8a99",
   "outputs": [
    {
     "data": {
      "text/plain": [
       "1"
      ]
     },
     "execution_count": 32,
     "metadata": {},
     "output_type": "execute_result"
    }
   ],
   "execution_count": 32
  },
  {
   "metadata": {
    "ExecuteTime": {
     "end_time": "2025-05-07T12:01:47.363418Z",
     "start_time": "2025-05-07T12:01:47.353157Z"
    }
   },
   "cell_type": "code",
   "source": [
    "divis= int(a/b)\n",
    "remainder = a%b\n",
    "\n",
    "print(f\"{b} goes into {a}, {divis} times with remainder of {remainder}.\")"
   ],
   "id": "a26cf32541cf4248",
   "outputs": [
    {
     "name": "stdout",
     "output_type": "stream",
     "text": [
      "3 goes into 10, 3 times with remainder of 1.\n"
     ]
    }
   ],
   "execution_count": 36
  },
  {
   "metadata": {},
   "cell_type": "code",
   "outputs": [],
   "execution_count": null,
   "source": "",
   "id": "1b20032b23786fdd"
  }
 ],
 "metadata": {
  "kernelspec": {
   "display_name": "Python 3 (ipykernel)",
   "language": "python",
   "name": "python3"
  },
  "language_info": {
   "codemirror_mode": {
    "name": "ipython",
    "version": 3
   },
   "file_extension": ".py",
   "mimetype": "text/x-python",
   "name": "python",
   "nbconvert_exporter": "python",
   "pygments_lexer": "ipython3",
   "version": "3.11.7"
  }
 },
 "nbformat": 4,
 "nbformat_minor": 5
}
